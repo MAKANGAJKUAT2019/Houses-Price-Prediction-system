{
 "cells": [
  {
   "cell_type": "markdown",
   "id": "d97a0549",
   "metadata": {},
   "source": [
    "### Web Scrapping with beautiful Soup"
   ]
  },
  {
   "cell_type": "code",
   "execution_count": null,
   "id": "ea282bb0",
   "metadata": {},
   "outputs": [],
   "source": [
    "import requests\n",
    "from bs4 import BeautifulSoup\n",
    "import pandas as pd\n",
    "import time\n",
    "\n",
    "properties = []\n",
    "properties_list = []\n",
    "amenities_dfs_lst = []\n",
    "base_url = 'https://www.buyrentkenya.com'\n",
    "\n",
    "# Loop through all pages containing properties\n",
    "for i in range(1, 69):\n",
    "    if i == 1:\n",
    "        url = base_url + '/houses-for-rent/nairobi'\n",
    "    else:\n",
    "        url = f'{base_url}/houses-for-rent/nairobi?page={i}'\n",
    "    \n",
    "    response = requests.get(url)\n",
    "    soup = BeautifulSoup(response.content, 'html.parser')\n",
    "    houses = soup.find_all('div', {'class': 'propertyTile'})  \n",
    "\n",
    "    for house in houses:\n",
    "        # Grab all available details per house\n",
    "        # Grab name\n",
    "        if house.find('div', {'class': 'title'}) is None: \n",
    "            name = \"\"\n",
    "        else:\n",
    "            name = house.find('div', {'class': 'title'}).text.strip()\n",
    "\n",
    "        # Grab price\n",
    "        if house.find('div', {'class': 'price'}) is None: \n",
    "            price = \"\"\n",
    "        else:\n",
    "            price = house.find('div', {'class': 'price'}).text.strip()  \n",
    "\n",
    "        # Grab location\n",
    "        if house.find('div', {'class': 'location-row'}) is None:  \n",
    "            location = \"\"\n",
    "        else:\n",
    "            location = house.find('div', {'class': 'location-row'}).find('div').text.strip()  \n",
    "\n",
    "        # Grab area/size\n",
    "        if house.find('div', {'class': 'key-attr'}) is None:  \n",
    "            area = \"\"\n",
    "        else:\n",
    "            area = house.find('div', {'class': 'key-attr'}).text.strip()  \n",
    "\n",
    "        # Grab no. of bedrooms\n",
    "        if house.find('div', {'class': 'bedroom'}) is None:  \n",
    "            bedrooms = \"\"\n",
    "        else:\n",
    "            bedrooms = house.find('div', {'class': 'bedroom'}).text.strip()  \n",
    "\n",
    "        # Grab no. of bathrooms\n",
    "        if house.find('div', {'class': 'bathroom'}) is None:  \n",
    "            bathrooms = \"\"\n",
    "        else:\n",
    "            bathrooms = house.find('div', {'class': 'bathroom'}).text.strip()  \n",
    "\n",
    "        # Create a dictionary with property details\n",
    "        property_details = {'Name': name, 'Price': price, 'Location': location,\n",
    "                            'Area': area, 'Bedrooms': bedrooms, 'Bathrooms': bathrooms}\n",
    "\n",
    "        # Append the dictionary created above to the empty list initialized on top\n",
    "        properties.append(property_details)\n",
    "\n",
    "        # Click on property to access the next page with full property details\n",
    "        # Fetch next page link 'a-href'\n",
    "        next_page_link = house.find('a')['href']  \n",
    "\n",
    "        # Concatenate the next page link to the base URL and create a soup object\n",
    "        next_pg_url = base_url + next_page_link\n",
    "        next_pg_response = requests.get(next_pg_url)\n",
    "        next_pg_soup = BeautifulSoup(next_pg_response.content, 'html.parser')\n",
    "\n",
    "        # Locate the table containing property amenities\n",
    "        amenities = next_pg_soup.find('div', {'class': 'amenities'}).find_all('div', {'class': 'list'})\n",
    "\n",
    "        amenities_lst = []\n",
    "\n",
    "        # Loop through the amenities available\n",
    "        for amenity in amenities:\n",
    "            amenity = amenity.text.strip()\n",
    "\n",
    "            # Create dictionary with a value of 1 for each available amenity and append dict in list\n",
    "            amenity_dict = {amenity: 1}\n",
    "            amenities_lst.append(amenity_dict)\n",
    "\n",
    "        # Create a mega dictionary with all dictionaries in the amenities_lst list\n",
    "        amenities_dict = {key: value for d in amenities_lst for key, value in d.items()}\n",
    "\n",
    "        # Dump the dictionary into a pandas dataframe\n",
    "        amenity_df = pd.DataFrame(amenities_dict, index=[0], dtype='string')\n",
    "\n",
    "        # Add a new column for property name and set the column as an index - to help with merging later on\n",
    "        amenity_df['Name'] = name\n",
    "        amenity_df = amenity_df.set_index('Name')\n",
    "\n",
    "        # Append the dataframe to the initialized empty list\n",
    "        amenities_dfs_lst.append(amenity_df)\n",
    "\n",
    "    time.sleep(3)\n",
    "\n",
    "# Create a mega list using all property dictionaries in the properties list\n",
    "properties_list = [{key: value.strip() for key, value in properti.items()} for properti in properties]"
   ]
  },
  {
   "cell_type": "code",
   "execution_count": null,
   "id": "e20d5a84",
   "metadata": {},
   "outputs": [],
   "source": [
    "#Create a pandas dataframe using the mega list with property details from the main page\n",
    "property_df = pd.DataFrame(properties_list)\n",
    "\n",
    "#Set the index column to help with merging later on\n",
    "property_df.set_index('Name')\n",
    "\n",
    "#Create a pandas dataframe using the mega list with amenities available from the second -amenities- page\n",
    "amenities_df = pd.concat(amenities_dfs_lst, axis=0, ignore_index=False)\n",
    "amenities_df\n",
    "\n",
    "#Merge the two dataframes - properties and amenities - on their index column\n",
    "df = pd.merge(property_df, amenities_df, on='Name')\n",
    "\n",
    "# Save your 'df' into a csv file\n",
    "df.to_csv('apartment_price.csv', index=False)"
   ]
  },
  {
   "cell_type": "code",
   "execution_count": 25,
   "id": "3ae5e457",
   "metadata": {},
   "outputs": [],
   "source": [
    "import pandas as pd\n",
    "import numpy as np"
   ]
  },
  {
   "cell_type": "code",
   "execution_count": 26,
   "id": "d28976eb",
   "metadata": {},
   "outputs": [],
   "source": [
    "df = pd.read_csv(\"./apartment_price.csv\")"
   ]
  },
  {
   "cell_type": "code",
   "execution_count": 27,
   "id": "0f118741",
   "metadata": {},
   "outputs": [
    {
     "data": {
      "text/html": [
       "<div>\n",
       "<style scoped>\n",
       "    .dataframe tbody tr th:only-of-type {\n",
       "        vertical-align: middle;\n",
       "    }\n",
       "\n",
       "    .dataframe tbody tr th {\n",
       "        vertical-align: top;\n",
       "    }\n",
       "\n",
       "    .dataframe thead th {\n",
       "        text-align: right;\n",
       "    }\n",
       "</style>\n",
       "<table border=\"1\" class=\"dataframe\">\n",
       "  <thead>\n",
       "    <tr style=\"text-align: right;\">\n",
       "      <th></th>\n",
       "      <th>Location</th>\n",
       "      <th>Distance_to_CBD</th>\n",
       "      <th>Bedrooms</th>\n",
       "      <th>Bathrooms</th>\n",
       "      <th>Floor_Size</th>\n",
       "      <th>Price</th>\n",
       "      <th>Amenities</th>\n",
       "    </tr>\n",
       "  </thead>\n",
       "  <tbody>\n",
       "    <tr>\n",
       "      <th>0</th>\n",
       "      <td>Kileleshwa</td>\n",
       "      <td>5.4</td>\n",
       "      <td>2</td>\n",
       "      <td>1</td>\n",
       "      <td>145</td>\n",
       "      <td>94322</td>\n",
       "      <td>electric fence, parking, swimming pool, CCTV, ...</td>\n",
       "    </tr>\n",
       "    <tr>\n",
       "      <th>1</th>\n",
       "      <td>Lavington</td>\n",
       "      <td>5.9</td>\n",
       "      <td>4</td>\n",
       "      <td>2</td>\n",
       "      <td>202</td>\n",
       "      <td>299704</td>\n",
       "      <td>garbage collection, garden</td>\n",
       "    </tr>\n",
       "    <tr>\n",
       "      <th>2</th>\n",
       "      <td>Utawala</td>\n",
       "      <td>22.4</td>\n",
       "      <td>3</td>\n",
       "      <td>3</td>\n",
       "      <td>219</td>\n",
       "      <td>35000</td>\n",
       "      <td>garden, CCTV, electric fence, parking, swimmin...</td>\n",
       "    </tr>\n",
       "    <tr>\n",
       "      <th>3</th>\n",
       "      <td>Muthaiga</td>\n",
       "      <td>7.0</td>\n",
       "      <td>3</td>\n",
       "      <td>3</td>\n",
       "      <td>141</td>\n",
       "      <td>364585</td>\n",
       "      <td>garden, gym, garbage collection, electric fence</td>\n",
       "    </tr>\n",
       "    <tr>\n",
       "      <th>4</th>\n",
       "      <td>Lavington</td>\n",
       "      <td>5.9</td>\n",
       "      <td>4</td>\n",
       "      <td>1</td>\n",
       "      <td>230</td>\n",
       "      <td>280463</td>\n",
       "      <td>parking, garden</td>\n",
       "    </tr>\n",
       "  </tbody>\n",
       "</table>\n",
       "</div>"
      ],
      "text/plain": [
       "     Location  Distance_to_CBD  Bedrooms  Bathrooms  Floor_Size   Price  \\\n",
       "0  Kileleshwa              5.4         2          1         145   94322   \n",
       "1   Lavington              5.9         4          2         202  299704   \n",
       "2     Utawala             22.4         3          3         219   35000   \n",
       "3    Muthaiga              7.0         3          3         141  364585   \n",
       "4   Lavington              5.9         4          1         230  280463   \n",
       "\n",
       "                                           Amenities  \n",
       "0  electric fence, parking, swimming pool, CCTV, ...  \n",
       "1                         garbage collection, garden  \n",
       "2  garden, CCTV, electric fence, parking, swimmin...  \n",
       "3    garden, gym, garbage collection, electric fence  \n",
       "4                                    parking, garden  "
      ]
     },
     "execution_count": 27,
     "metadata": {},
     "output_type": "execute_result"
    }
   ],
   "source": [
    "df.head()"
   ]
  },
  {
   "cell_type": "code",
   "execution_count": 24,
   "id": "ad952be9",
   "metadata": {},
   "outputs": [
    {
     "data": {
      "text/plain": [
       "Ruaka         328\n",
       "Utawala       312\n",
       "Kileleshwa    310\n",
       "Lavington     310\n",
       "Westlands     303\n",
       "Ruiru         299\n",
       "Juja          297\n",
       "Syokimau      285\n",
       "Muthaiga      278\n",
       "Kilimani      278\n",
       "Name: Location, dtype: int64"
      ]
     },
     "execution_count": 24,
     "metadata": {},
     "output_type": "execute_result"
    }
   ],
   "source": [
    "# Different Locations in our dataset\n",
    "df[\"Location\"].value_counts()"
   ]
  },
  {
   "cell_type": "code",
   "execution_count": 29,
   "id": "7e2c1115",
   "metadata": {},
   "outputs": [
    {
     "data": {
      "text/plain": [
       "4    805\n",
       "2    754\n",
       "1    722\n",
       "3    719\n",
       "Name: Bedrooms, dtype: int64"
      ]
     },
     "execution_count": 29,
     "metadata": {},
     "output_type": "execute_result"
    }
   ],
   "source": [
    "# Check the minimum and maximum No of 'Bathrooms' in Dataset\n",
    "df[\"Bedrooms\"].value_counts()"
   ]
  },
  {
   "cell_type": "code",
   "execution_count": 9,
   "id": "ea3a681a",
   "metadata": {},
   "outputs": [
    {
     "name": "stdout",
     "output_type": "stream",
     "text": [
      "<class 'pandas.core.frame.DataFrame'>\n",
      "RangeIndex: 3000 entries, 0 to 2999\n",
      "Data columns (total 7 columns):\n",
      " #   Column           Non-Null Count  Dtype  \n",
      "---  ------           --------------  -----  \n",
      " 0   Location         3000 non-null   object \n",
      " 1   Distance_to_CBD  3000 non-null   float64\n",
      " 2   Bedrooms         3000 non-null   int64  \n",
      " 3   Bathrooms        3000 non-null   int64  \n",
      " 4   Floor_Size       3000 non-null   int64  \n",
      " 5   Price            3000 non-null   int64  \n",
      " 6   Amenities        2630 non-null   object \n",
      "dtypes: float64(1), int64(4), object(2)\n",
      "memory usage: 164.2+ KB\n"
     ]
    }
   ],
   "source": [
    "df.info()"
   ]
  },
  {
   "cell_type": "code",
   "execution_count": 10,
   "id": "a9c10ac6",
   "metadata": {},
   "outputs": [],
   "source": [
    "# or fill missing values with the most frequent value\n",
    "df['Amenities'] = df['Amenities'].fillna(df['Amenities'].mode()[0])"
   ]
  },
  {
   "cell_type": "code",
   "execution_count": 11,
   "id": "2ae53fed",
   "metadata": {},
   "outputs": [],
   "source": [
    "# Assuming the column with strings separated by commas is named 'column_name'\n",
    "df['Amenities'] = df['Amenities'].str.split(',')\n",
    "\n",
    "# Create a list of your five column names\n",
    "valid_columns = ['garbage collection', 'parking', 'garden', 'swimming pool', 'gym']\n",
    "\n",
    "# Create new columns and assign 1 or 0 for each match\n",
    "for column in valid_columns:\n",
    "    df[column] = df['Amenities'].apply(lambda x: 1 if column in x else 0)"
   ]
  },
  {
   "cell_type": "code",
   "execution_count": 12,
   "id": "db1ccf73",
   "metadata": {
    "scrolled": true
   },
   "outputs": [],
   "source": [
    "# Delete the 'Amenities' column from the dataframe\n",
    "df.drop(columns='Amenities', inplace = True)"
   ]
  },
  {
   "cell_type": "code",
   "execution_count": 21,
   "id": "b62ff121",
   "metadata": {},
   "outputs": [
    {
     "data": {
      "text/html": [
       "<div>\n",
       "<style scoped>\n",
       "    .dataframe tbody tr th:only-of-type {\n",
       "        vertical-align: middle;\n",
       "    }\n",
       "\n",
       "    .dataframe tbody tr th {\n",
       "        vertical-align: top;\n",
       "    }\n",
       "\n",
       "    .dataframe thead th {\n",
       "        text-align: right;\n",
       "    }\n",
       "</style>\n",
       "<table border=\"1\" class=\"dataframe\">\n",
       "  <thead>\n",
       "    <tr style=\"text-align: right;\">\n",
       "      <th></th>\n",
       "      <th>Location</th>\n",
       "      <th>Distance_to_CBD</th>\n",
       "      <th>Bedrooms</th>\n",
       "      <th>Bathrooms</th>\n",
       "      <th>Floor_Size</th>\n",
       "      <th>Price</th>\n",
       "      <th>garbage collection</th>\n",
       "      <th>parking</th>\n",
       "      <th>garden</th>\n",
       "      <th>swimming pool</th>\n",
       "      <th>gym</th>\n",
       "    </tr>\n",
       "  </thead>\n",
       "  <tbody>\n",
       "    <tr>\n",
       "      <th>0</th>\n",
       "      <td>1</td>\n",
       "      <td>5.4</td>\n",
       "      <td>2</td>\n",
       "      <td>1</td>\n",
       "      <td>145</td>\n",
       "      <td>94322</td>\n",
       "      <td>0</td>\n",
       "      <td>0</td>\n",
       "      <td>0</td>\n",
       "      <td>0</td>\n",
       "      <td>0</td>\n",
       "    </tr>\n",
       "    <tr>\n",
       "      <th>1</th>\n",
       "      <td>3</td>\n",
       "      <td>5.9</td>\n",
       "      <td>4</td>\n",
       "      <td>2</td>\n",
       "      <td>202</td>\n",
       "      <td>299704</td>\n",
       "      <td>1</td>\n",
       "      <td>0</td>\n",
       "      <td>0</td>\n",
       "      <td>0</td>\n",
       "      <td>0</td>\n",
       "    </tr>\n",
       "    <tr>\n",
       "      <th>2</th>\n",
       "      <td>8</td>\n",
       "      <td>22.4</td>\n",
       "      <td>3</td>\n",
       "      <td>3</td>\n",
       "      <td>219</td>\n",
       "      <td>35000</td>\n",
       "      <td>0</td>\n",
       "      <td>0</td>\n",
       "      <td>1</td>\n",
       "      <td>0</td>\n",
       "      <td>0</td>\n",
       "    </tr>\n",
       "    <tr>\n",
       "      <th>3</th>\n",
       "      <td>4</td>\n",
       "      <td>7.0</td>\n",
       "      <td>3</td>\n",
       "      <td>3</td>\n",
       "      <td>141</td>\n",
       "      <td>364585</td>\n",
       "      <td>0</td>\n",
       "      <td>0</td>\n",
       "      <td>1</td>\n",
       "      <td>0</td>\n",
       "      <td>0</td>\n",
       "    </tr>\n",
       "    <tr>\n",
       "      <th>4</th>\n",
       "      <td>3</td>\n",
       "      <td>5.9</td>\n",
       "      <td>4</td>\n",
       "      <td>1</td>\n",
       "      <td>230</td>\n",
       "      <td>280463</td>\n",
       "      <td>0</td>\n",
       "      <td>1</td>\n",
       "      <td>0</td>\n",
       "      <td>0</td>\n",
       "      <td>0</td>\n",
       "    </tr>\n",
       "  </tbody>\n",
       "</table>\n",
       "</div>"
      ],
      "text/plain": [
       "   Location  Distance_to_CBD  Bedrooms  Bathrooms  Floor_Size   Price  \\\n",
       "0         1              5.4         2          1         145   94322   \n",
       "1         3              5.9         4          2         202  299704   \n",
       "2         8             22.4         3          3         219   35000   \n",
       "3         4              7.0         3          3         141  364585   \n",
       "4         3              5.9         4          1         230  280463   \n",
       "\n",
       "   garbage collection  parking  garden  swimming pool  gym  \n",
       "0                   0        0       0              0    0  \n",
       "1                   1        0       0              0    0  \n",
       "2                   0        0       1              0    0  \n",
       "3                   0        0       1              0    0  \n",
       "4                   0        1       0              0    0  "
      ]
     },
     "execution_count": 21,
     "metadata": {},
     "output_type": "execute_result"
    }
   ],
   "source": [
    "df.head()"
   ]
  },
  {
   "cell_type": "markdown",
   "id": "fecc1161",
   "metadata": {},
   "source": [
    "### Machine Learning Model Building"
   ]
  },
  {
   "cell_type": "markdown",
   "id": "f02c8ea7",
   "metadata": {},
   "source": [
    "### Import Necessary Libraries"
   ]
  },
  {
   "cell_type": "code",
   "execution_count": 13,
   "id": "6b3c55d3",
   "metadata": {},
   "outputs": [],
   "source": [
    "import xgboost as xgb\n",
    "import pickle\n",
    "from sklearn.model_selection import train_test_split\n",
    "from sklearn.preprocessing import LabelEncoder\n",
    "from sklearn.metrics import mean_absolute_error"
   ]
  },
  {
   "cell_type": "code",
   "execution_count": 14,
   "id": "6e7d27b8",
   "metadata": {},
   "outputs": [],
   "source": [
    "# Create an instance of LabelEncoder\n",
    "encoder = LabelEncoder()\n",
    "\n",
    "# Fit the encoder on the \"location\" column\n",
    "df['Location'] = encoder.fit_transform(df['Location'])"
   ]
  },
  {
   "cell_type": "code",
   "execution_count": 15,
   "id": "bde00ad5",
   "metadata": {},
   "outputs": [],
   "source": [
    "X = df.drop('Price', axis=1) # Features\n",
    "y = df['Price'] # Target column (house prices)\n",
    "\n",
    "# Split data into train and test sets\n",
    "X_train, X_test, y_train, y_test = train_test_split(X, y, test_size=0.2, random_state=42)\n"
   ]
  },
  {
   "cell_type": "markdown",
   "id": "75b65800",
   "metadata": {},
   "source": [
    "### Baseline Model\n",
    " - To know if the model you built performs well, we need to have a <b>Naive or Baseline Model</b>. A model that always makes one prediction and it tells us if we are to build a model, then atleast for every Price prediction it has to be Above or Equal to the Baseline model price prediction."
   ]
  },
  {
   "cell_type": "code",
   "execution_count": 16,
   "id": "000f072a",
   "metadata": {},
   "outputs": [],
   "source": [
    "y_mean = y_train.mean()\n",
    "y_pred_baseline = [y_mean] * len(y_train)"
   ]
  },
  {
   "cell_type": "code",
   "execution_count": 17,
   "id": "b7f05801",
   "metadata": {},
   "outputs": [
    {
     "name": "stdout",
     "output_type": "stream",
     "text": [
      "Mean apt Price: 104850.34\n",
      "Baseline MAE: 73873.33\n"
     ]
    }
   ],
   "source": [
    "mae_baseline = mean_absolute_error(y_train, y_pred_baseline)\n",
    "\n",
    "print(\"Mean apt Price:\", round(y_mean, 2))\n",
    "print(\"Baseline MAE:\", round(mae_baseline, 2))"
   ]
  },
  {
   "cell_type": "markdown",
   "id": "fd288684",
   "metadata": {},
   "source": [
    "## Observation Above\n",
    "- If we always predicted that an apartment price is Ksh.104850.34,our predictions would be off by an average of Ksh.73873.33. It also tells us that our model needs to have mean absolute error below Ksh.- If we always predicted that an apartment price is Ksh.104850.34,our predictions would be off by an average of Ksh.73873.33. It also tells us that our model needs to have mean absolute error below Ksh.73873.33 in order to be useful."
   ]
  },
  {
   "cell_type": "markdown",
   "id": "96b82444",
   "metadata": {},
   "source": [
    "### XGBoost Model"
   ]
  },
  {
   "cell_type": "code",
   "execution_count": 18,
   "id": "c1af054e",
   "metadata": {},
   "outputs": [],
   "source": [
    "# Convert train and test sets to DMatrix format\n",
    "dtrain = xgb.DMatrix(X_train, label=y_train)\n",
    "dtest = xgb.DMatrix(X_test)\n",
    "\n",
    "# Set XGBoost parameters\n",
    "params = {\n",
    "    'objective': 'reg:squarederror', # Use squared error as the objective function for regression\n",
    "    'max_depth': 3, # Maximum depth of a tree\n",
    "    'eta': 0.1, # Step size shrinkage used in each boosting step\n",
    "    'subsample': 0.7, # Subsample ratio of the training instances\n",
    "    'colsample_bytree': 0.7 # Subsample ratio of columns when constructing each tree\n",
    "}"
   ]
  },
  {
   "cell_type": "code",
   "execution_count": 19,
   "id": "efed5342",
   "metadata": {},
   "outputs": [],
   "source": [
    "# Train the XGBoost model\n",
    "model = xgb.train(params, dtrain) \n",
    "\n",
    "# Make predictions on the test set\n",
    "predictions = model.predict(dtest)\n",
    "\n",
    "# Evaluate the model\n",
    "mae = mean_absolute_error(y_test, predictions)\n",
    "# print(f\"Mean Squared Error: {np.sqrt(mse)}\")"
   ]
  },
  {
   "cell_type": "code",
   "execution_count": 20,
   "id": "89c967ad",
   "metadata": {},
   "outputs": [
    {
     "name": "stdout",
     "output_type": "stream",
     "text": [
      "Training MAE:31908.75\n"
     ]
    }
   ],
   "source": [
    "print(f\"Training MAE:{round(mae, 2)}\")"
   ]
  },
  {
   "cell_type": "markdown",
   "id": "60cd8512",
   "metadata": {},
   "source": [
    "### Observation Above\n",
    "- Good news. Our model beats the baseline by over Ksh.40,000! It's a good indicator that our model will be helpful in predicting apartment prices."
   ]
  },
  {
   "cell_type": "code",
   "execution_count": 31,
   "id": "5185f806",
   "metadata": {},
   "outputs": [
    {
     "data": {
      "text/plain": [
       "count    3000.000000\n",
       "mean      154.947667\n",
       "std        67.086142\n",
       "min        50.000000\n",
       "25%        93.000000\n",
       "50%       162.000000\n",
       "75%       203.000000\n",
       "max       298.000000\n",
       "Name: Floor_Size, dtype: float64"
      ]
     },
     "execution_count": 31,
     "metadata": {},
     "output_type": "execute_result"
    }
   ],
   "source": [
    "df[\"Floor_Size\"].describe()"
   ]
  },
  {
   "cell_type": "code",
   "execution_count": 32,
   "id": "c12bd27e",
   "metadata": {},
   "outputs": [
    {
     "data": {
      "text/plain": [
       "count    3000.0000\n",
       "mean       14.9659\n",
       "std        10.3151\n",
       "min         3.2000\n",
       "25%         5.4000\n",
       "50%        19.0000\n",
       "75%        24.0000\n",
       "max        32.8000\n",
       "Name: Distance_to_CBD, dtype: float64"
      ]
     },
     "execution_count": 32,
     "metadata": {},
     "output_type": "execute_result"
    }
   ],
   "source": [
    "df[\"Distance_to_CBD\"].describe()"
   ]
  },
  {
   "cell_type": "code",
   "execution_count": null,
   "id": "ffb14d1f",
   "metadata": {},
   "outputs": [],
   "source": []
  }
 ],
 "metadata": {
  "kernelspec": {
   "display_name": "Python 3 (ipykernel)",
   "language": "python",
   "name": "python3"
  },
  "language_info": {
   "codemirror_mode": {
    "name": "ipython",
    "version": 3
   },
   "file_extension": ".py",
   "mimetype": "text/x-python",
   "name": "python",
   "nbconvert_exporter": "python",
   "pygments_lexer": "ipython3",
   "version": "3.11.3"
  }
 },
 "nbformat": 4,
 "nbformat_minor": 5
}
